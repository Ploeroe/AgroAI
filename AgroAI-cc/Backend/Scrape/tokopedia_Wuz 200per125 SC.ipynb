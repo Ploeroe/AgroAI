{
 "cells": [
  {
   "cell_type": "code",
   "execution_count": 1,
   "metadata": {},
   "outputs": [],
   "source": [
    "import requests\n",
    "import json\n",
    "import numpy as np\n",
    "import pandas as pd\n",
    "import matplotlib.pyplot as plt\n",
    "import seaborn as sns"
   ]
  },
  {
   "cell_type": "code",
   "execution_count": 2,
   "metadata": {},
   "outputs": [],
   "source": [
    "url = 'https://gql.tokopedia.com/graphql/SearchProductQueryV4'"
   ]
  },
  {
   "cell_type": "code",
   "execution_count": 33,
   "metadata": {},
   "outputs": [],
   "source": [
    "payload = [{\n",
    "    'operationName': \"SearchProductQueryV4\",\n",
    "    'variables': {\n",
    "        \"params\": \"device=desktop&navsource=&ob=23&page={}&q={}related=true&rows=60&safe_search=false&scheme=https&shipping=&source=search&srp_component_id=02.01.00.00&srp_page_id=&srp_page_title=&st=product&start={}&topads_bucket=true&unique_id=330142c9d1c168eaabef95522c06e1fa&user_addressId=44389028&user_cityId=167&user_districtId=2202&user_id=24265242&user_lat=-6.218126229670426&user_long=107.01841201633215&user_postCode=17123&user_warehouseId=12941747&variants=&warehouses=12941747%232h%2C0%2315m\"\n",
    "        },\n",
    "    'query': \"query SearchProductQueryV4($params: String!) {\\n  ace_search_product_v4(params: $params) {\\n    header {\\n      totalData\\n      totalDataText\\n      processTime\\n      responseCode\\n      errorMessage\\n      additionalParams\\n      keywordProcess\\n      componentId\\n      __typename\\n    }\\n    data {\\n      banner {\\n        position\\n        text\\n        imageUrl\\n        url\\n        componentId\\n        trackingOption\\n        __typename\\n      }\\n      backendFilters\\n      isQuerySafe\\n      ticker {\\n        text\\n        query\\n        typeId\\n        componentId\\n        trackingOption\\n        __typename\\n      }\\n      redirection {\\n        redirectUrl\\n        departmentId\\n        __typename\\n      }\\n      related {\\n        position\\n        trackingOption\\n        relatedKeyword\\n        otherRelated {\\n          keyword\\n          url\\n          product {\\n            id\\n            name\\n            price\\n            imageUrl\\n            rating\\n            countReview\\n            url\\n            priceStr\\n            wishlist\\n            shop {\\n              city\\n              isOfficial\\n              isPowerBadge\\n              __typename\\n            }\\n            ads {\\n              adsId: id\\n              productClickUrl\\n              productWishlistUrl\\n              shopClickUrl\\n              productViewUrl\\n              __typename\\n            }\\n            badges {\\n              title\\n              imageUrl\\n              show\\n              __typename\\n            }\\n            ratingAverage\\n            labelGroups {\\n              position\\n              type\\n              title\\n              url\\n              __typename\\n            }\\n            componentId\\n            __typename\\n          }\\n          componentId\\n          __typename\\n        }\\n        __typename\\n      }\\n      suggestion {\\n        currentKeyword\\n        suggestion\\n        suggestionCount\\n        instead\\n        insteadCount\\n        query\\n        text\\n        componentId\\n        trackingOption\\n        __typename\\n      }\\n      products {\\n        id\\n        name\\n        ads {\\n          adsId: id\\n          productClickUrl\\n          productWishlistUrl\\n          productViewUrl\\n          __typename\\n        }\\n        badges {\\n          title\\n          imageUrl\\n          show\\n          __typename\\n        }\\n        category: departmentId\\n        categoryBreadcrumb\\n        categoryId\\n        categoryName\\n        countReview\\n        customVideoURL\\n        discountPercentage\\n        gaKey\\n        imageUrl\\n        labelGroups {\\n          position\\n          title\\n          type\\n          url\\n          __typename\\n        }\\n        originalPrice\\n        price\\n        priceRange\\n        rating\\n        ratingAverage\\n        shop {\\n          shopId: id\\n          name\\n          url\\n          city\\n          isOfficial\\n          isPowerBadge\\n          __typename\\n        }\\n        url\\n        wishlist\\n        sourceEngine: source_engine\\n        __typename\\n      }\\n      violation {\\n        headerText\\n        descriptionText\\n        imageURL\\n        ctaURL\\n        ctaApplink\\n        buttonText\\n        buttonType\\n        __typename\\n      }\\n      __typename\\n    }\\n    __typename\\n  }\\n}\\n\"\n",
    "}]"
   ]
  },
  {
   "cell_type": "code",
   "execution_count": 34,
   "metadata": {},
   "outputs": [
    {
     "name": "stdout",
     "output_type": "stream",
     "text": [
      "1\n"
     ]
    }
   ],
   "source": [
    "req = requests.post(url, json=payload).json()\n",
    "rows = req[0]['data']['ace_search_product_v4']['data']['products']\n",
    "print(len(rows))"
   ]
  },
  {
   "cell_type": "code",
   "execution_count": 35,
   "metadata": {},
   "outputs": [
    {
     "name": "stdout",
     "output_type": "stream",
     "text": [
      "[{'data': {'ace_search_product_v4': {'header': {'totalData': 1, 'totalDataText': '1', 'processTime': 0.042948734, 'responseCode': 0, 'errorMessage': '', 'additionalParams': '', 'keywordProcess': '0', 'componentId': '02.01.00.00', '__typename': 'AceSearchUnifyHeader'}, 'data': {'banner': {'position': 0, 'text': '', 'imageUrl': '', 'url': '', 'componentId': '', 'trackingOption': 0, '__typename': 'AceSearchUnifyBanner'}, 'backendFilters': '&ob=104', 'isQuerySafe': True, 'ticker': {'text': '', 'query': '', 'typeId': 0, 'componentId': '', 'trackingOption': 0, '__typename': 'AceSearchUnifyTicker'}, 'redirection': {'redirectUrl': '', 'departmentId': 0, '__typename': 'AceSearchUnifyRedirection'}, 'related': {'position': 0, 'trackingOption': 0, 'relatedKeyword': '', 'otherRelated': [], '__typename': 'AceSearchUnifyRelated'}, 'suggestion': {'currentKeyword': '{}related=true', 'suggestion': '', 'suggestionCount': 0, 'instead': '', 'insteadCount': 0, 'query': '', 'text': '', 'componentId': '', 'trackingOption': 0, '__typename': 'AceSearchUnifySuggestion'}, 'products': [{'id': 9636362782, 'name': 'Myelodysplastic Syndromes Related Neoplasm TRUE Face', 'ads': {'adsId': '', 'productClickUrl': '', 'productWishlistUrl': '', 'productViewUrl': '', '__typename': 'AceSearchUnifyAds'}, 'badges': [{'title': 'Power Badge', 'imageUrl': 'https://images.tokopedia.net/img/power_merchant_badge.png', 'show': True, '__typename': 'AceSearchUnifyBadge'}], 'category': 892, 'categoryBreadcrumb': 'buku/buku-import/medical-book-import', 'categoryId': 8, 'categoryName': 'Buku', 'countReview': 0, 'customVideoURL': '', 'discountPercentage': 0, 'gaKey': '/searchproduct/buku/buku-import/medical-book-import/%7B%7Drelated%3Dtrue/gabelcun/myelodysplastic-syndromes-related-neoplasm-true-face', 'imageUrl': 'https://images.tokopedia.net/img/cache/200-square/hDjmkQ/2023/5/22/12fd2a38-c66c-4e6f-a2ab-01d364fb7b98.jpg', 'labelGroups': [{'position': 'status', 'title': 'PreOrder', 'type': 'transparentBlack', 'url': '', '__typename': 'AceSearchUnifyLabelGroup'}], 'originalPrice': '', 'price': 'Rp47.240', 'priceRange': '', 'rating': 0, 'ratingAverage': '', 'shop': {'shopId': 15707432, 'name': 'gabelcun', 'url': 'https://www.tokopedia.com/gabelcun', 'city': 'Yogyakarta', 'isOfficial': False, 'isPowerBadge': True, '__typename': 'AceSearchUnifyShop'}, 'url': 'https://www.tokopedia.com/gabelcun/myelodysplastic-syndromes-related-neoplasm-true-face?extParam=ivf%3Dfalse%26src%3Dsearch', 'wishlist': False, 'sourceEngine': '0', '__typename': 'AceSearchUnifyProduct'}], 'violation': {'headerText': '', 'descriptionText': '', 'imageURL': '', 'ctaURL': '', 'ctaApplink': '', 'buttonText': '', 'buttonType': '', '__typename': 'AceSearchUnifyViolation'}, '__typename': 'AceSearchUnifyData'}, '__typename': 'AceSearchUnifyResponse'}}}]\n"
     ]
    }
   ],
   "source": [
    "print(req)"
   ]
  },
  {
   "cell_type": "code",
   "execution_count": 36,
   "metadata": {},
   "outputs": [
    {
     "name": "stdout",
     "output_type": "stream",
     "text": [
      "0 Myelodysplastic Syndromes Related Neoplasm TRUE Face Rp47.240  gabelcun Yogyakarta \n"
     ]
    }
   ],
   "source": [
    "for i in range(0, len(rows)):\n",
    "    no = i\n",
    "    nama_produk = rows[i]['name']\n",
    "    harga = rows[i]['price']\n",
    "    rating = rows[i]['ratingAverage']\n",
    "    toko = rows[i]['shop']['name']\n",
    "    lokasi = rows[i]['shop']['city']\n",
    "    tjl = rows[i]['labelGroups']\n",
    "    terjual = ''\n",
    "    for i in tjl:\n",
    "        if tjl[0]['position'] == 'costperunit':\n",
    "            terjual = ''\n",
    "        elif tjl[0]['title'] == 'PreOrder':\n",
    "            terjual = ''\n",
    "        elif tjl[0]['title'] == 'Grosir':\n",
    "            terjual = ''\n",
    "        elif tjl[0]['title'] == 'Produk Terbaru':\n",
    "            terjual = ''\n",
    "        elif tjl[0]['title'] =='Cashback':\n",
    "            terjual = ''\n",
    "        else:\n",
    "            terjual = tjl[0]['title']\n",
    "    #terjual = next((rows[i]['labelGroups'][0]['title'] for item in rows[i]['labelGroups'][0] if rows[i]['labelGroups'][0]['position'] == 'integrity'), None)\n",
    "    print(no, nama_produk, harga, rating, toko, lokasi, terjual)"
   ]
  },
  {
   "cell_type": "code",
   "execution_count": 37,
   "metadata": {},
   "outputs": [
    {
     "data": {
      "text/plain": [
       "0"
      ]
     },
     "execution_count": 37,
     "metadata": {},
     "output_type": "execute_result"
    }
   ],
   "source": [
    "len(terjual)"
   ]
  },
  {
   "cell_type": "code",
   "execution_count": 38,
   "metadata": {},
   "outputs": [],
   "source": [
    "search = 'wuz 200/125 SC'\n",
    "url = 'https://gql.tokopedia.com/graphql/SearchProductQueryV4'\n",
    "\n",
    "def get_param():\n",
    "    params = []\n",
    "    for i in range(1,27):\n",
    "        param = \"device=desktop&navsource=&ob=23&page={}&q={}related=true&rows=60&safe_search=false&scheme=https&shipping=&source=search&srp_component_id=02.01.00.00&srp_page_id=&srp_page_title=&st=product&start={}&topads_bucket=true&unique_id=330142c9d1c168eaabef95522c06e1fa&user_addressId=44389028&user_cityId=167&user_districtId=2202&user_id=24265242&user_lat=-6.218126229670426&user_long=107.01841201633215&user_postCode=17123&user_warehouseId=12941747&variants=&warehouses=12941747%232h%2C0%2315m\".format(i, search, (i-1)*60)\n",
    "        params.append(param)\n",
    "\n",
    "    return params\n",
    "\n",
    "def scraped(param):\n",
    "    payload = [{\n",
    "    'operationName': \"SearchProductQueryV4\",\n",
    "    'variables': {\n",
    "        \"params\": param\n",
    "        },\n",
    "    'query': \"query SearchProductQueryV4($params: String!) {\\n  ace_search_product_v4(params: $params) {\\n    header {\\n      totalData\\n      totalDataText\\n      processTime\\n      responseCode\\n      errorMessage\\n      additionalParams\\n      keywordProcess\\n      componentId\\n      __typename\\n    }\\n    data {\\n      banner {\\n        position\\n        text\\n        imageUrl\\n        url\\n        componentId\\n        trackingOption\\n        __typename\\n      }\\n      backendFilters\\n      isQuerySafe\\n      ticker {\\n        text\\n        query\\n        typeId\\n        componentId\\n        trackingOption\\n        __typename\\n      }\\n      redirection {\\n        redirectUrl\\n        departmentId\\n        __typename\\n      }\\n      related {\\n        position\\n        trackingOption\\n        relatedKeyword\\n        otherRelated {\\n          keyword\\n          url\\n          product {\\n            id\\n            name\\n            price\\n            imageUrl\\n            rating\\n            countReview\\n            url\\n            priceStr\\n            wishlist\\n            shop {\\n              city\\n              isOfficial\\n              isPowerBadge\\n              __typename\\n            }\\n            ads {\\n              adsId: id\\n              productClickUrl\\n              productWishlistUrl\\n              shopClickUrl\\n              productViewUrl\\n              __typename\\n            }\\n            badges {\\n              title\\n              imageUrl\\n              show\\n              __typename\\n            }\\n            ratingAverage\\n            labelGroups {\\n              position\\n              type\\n              title\\n              url\\n              __typename\\n            }\\n            componentId\\n            __typename\\n          }\\n          componentId\\n          __typename\\n        }\\n        __typename\\n      }\\n      suggestion {\\n        currentKeyword\\n        suggestion\\n        suggestionCount\\n        instead\\n        insteadCount\\n        query\\n        text\\n        componentId\\n        trackingOption\\n        __typename\\n      }\\n      products {\\n        id\\n        name\\n        ads {\\n          adsId: id\\n          productClickUrl\\n          productWishlistUrl\\n          productViewUrl\\n          __typename\\n        }\\n        badges {\\n          title\\n          imageUrl\\n          show\\n          __typename\\n        }\\n        category: departmentId\\n        categoryBreadcrumb\\n        categoryId\\n        categoryName\\n        countReview\\n        customVideoURL\\n        discountPercentage\\n        gaKey\\n        imageUrl\\n        labelGroups {\\n          position\\n          title\\n          type\\n          url\\n          __typename\\n        }\\n        originalPrice\\n        price\\n        priceRange\\n        rating\\n        ratingAverage\\n        shop {\\n          shopId: id\\n          name\\n          url\\n          city\\n          isOfficial\\n          isPowerBadge\\n          __typename\\n        }\\n        url\\n        wishlist\\n        sourceEngine: source_engine\\n        __typename\\n      }\\n      violation {\\n        headerText\\n        descriptionText\\n        imageURL\\n        ctaURL\\n        ctaApplink\\n        buttonText\\n        buttonType\\n        __typename\\n      }\\n      __typename\\n    }\\n    __typename\\n  }\\n}\\n\"\n",
    "    }]\n",
    "\n",
    "    req = requests.post(url, json=payload).json()\n",
    "    rows = req[0]['data']['ace_search_product_v4']['data']['products']\n",
    "    #print(len(rows))\n",
    "    scraped = []\n",
    "    for i in range(0, len(rows)):\n",
    "        no = i\n",
    "        toko = rows[i]['shop']['name']\n",
    "        lokasi = rows[i]['shop']['city']\n",
    "        nama_produk = rows[i]['name']\n",
    "        harga = rows[i]['price']\n",
    "        rating = rows[i]['ratingAverage']\n",
    "        tjl = rows[i]['labelGroups']\n",
    "        terjual = ''\n",
    "        for i in tjl:\n",
    "            if tjl[0]['position'] == 'costperunit':\n",
    "                terjual = ''\n",
    "            elif tjl[0]['title'] == 'PreOrder':\n",
    "                terjual = ''\n",
    "            elif tjl[0]['title'] == 'Grosir':\n",
    "                terjual = ''\n",
    "            elif tjl[0]['title'] == 'Produk Terbaru':\n",
    "                terjual = ''\n",
    "            elif tjl[0]['title'] =='Cashback':\n",
    "                terjual = ''\n",
    "            else:\n",
    "                terjual = tjl[0]['title']\n",
    "        scraped.append((\n",
    "            nama_produk, harga, rating, toko, lokasi, terjual\n",
    "        ))\n",
    "    return scraped\n",
    "\n",
    "if __name__ == '__main__':\n",
    "    params = get_param()\n",
    "    all_data = []\n",
    "    for i in range(0, len(params)):\n",
    "        param = params[i]\n",
    "        data = scraped(param)\n",
    "        all_data.extend(data)\n",
    "    #print(all_data)\n",
    "    df_wuz_200per125_SC= pd.DataFrame(all_data, columns=['Nama Produk', 'Harga', 'Rating', 'Toko', 'Lokasi', 'Terjual'])"
   ]
  },
  {
   "cell_type": "code",
   "execution_count": null,
   "metadata": {},
   "outputs": [],
   "source": [
    "#params_all = \"device=desktop&navsource=&ob=23&page={}&q={}related=true&rows=60&safe_search=false&scheme=https&shipping=&source=search&srp_component_id=02.01.00.00&srp_page_id=&srp_page_title=&st=product&start={}&topads_bucket=true&unique_id=330142c9d1c168eaabef95522c06e1fa&user_addressId=44389028&user_cityId=167&user_districtId=2202&user_id=24265242&user_lat=-6.218126229670426&user_long=107.01841201633215&user_postCode=17123&user_warehouseId=12941747&variants=&warehouses=12941747%232h%2C0%2315m\".format(page, start)"
   ]
  },
  {
   "cell_type": "code",
   "execution_count": 39,
   "metadata": {},
   "outputs": [
    {
     "data": {
      "text/html": [
       "<div>\n",
       "<style scoped>\n",
       "    .dataframe tbody tr th:only-of-type {\n",
       "        vertical-align: middle;\n",
       "    }\n",
       "\n",
       "    .dataframe tbody tr th {\n",
       "        vertical-align: top;\n",
       "    }\n",
       "\n",
       "    .dataframe thead th {\n",
       "        text-align: right;\n",
       "    }\n",
       "</style>\n",
       "<table border=\"1\" class=\"dataframe\">\n",
       "  <thead>\n",
       "    <tr style=\"text-align: right;\">\n",
       "      <th></th>\n",
       "      <th>Nama Produk</th>\n",
       "      <th>Harga</th>\n",
       "      <th>Rating</th>\n",
       "      <th>Toko</th>\n",
       "      <th>Lokasi</th>\n",
       "      <th>Terjual</th>\n",
       "    </tr>\n",
       "  </thead>\n",
       "  <tbody>\n",
       "  </tbody>\n",
       "</table>\n",
       "</div>"
      ],
      "text/plain": [
       "Empty DataFrame\n",
       "Columns: [Nama Produk, Harga, Rating, Toko, Lokasi, Terjual]\n",
       "Index: []"
      ]
     },
     "execution_count": 39,
     "metadata": {},
     "output_type": "execute_result"
    }
   ],
   "source": [
    "df_wuz_200per125_SC"
   ]
  },
  {
   "cell_type": "code",
   "execution_count": 40,
   "metadata": {},
   "outputs": [
    {
     "data": {
      "text/plain": [
       "array([], dtype=object)"
      ]
     },
     "execution_count": 40,
     "metadata": {},
     "output_type": "execute_result"
    }
   ],
   "source": [
    "df_wuz_200per125_SC['Terjual'].unique()"
   ]
  },
  {
   "cell_type": "code",
   "execution_count": 41,
   "metadata": {},
   "outputs": [
    {
     "ename": "ValueError",
     "evalue": "cannot set a frame with no defined index and a scalar",
     "output_type": "error",
     "traceback": [
      "\u001b[1;31m---------------------------------------------------------------------------\u001b[0m",
      "\u001b[1;31mValueError\u001b[0m                                Traceback (most recent call last)",
      "Cell \u001b[1;32mIn[41], line 1\u001b[0m\n\u001b[1;32m----> 1\u001b[0m df_wuz_200per125_SC\u001b[39m.\u001b[39;49mloc[df_wuz_200per125_SC[\u001b[39m'\u001b[39;49m\u001b[39mTerjual\u001b[39;49m\u001b[39m'\u001b[39;49m] \u001b[39m==\u001b[39;49m \u001b[39m'\u001b[39;49m\u001b[39mTerjual 1\u001b[39;49m\u001b[39m'\u001b[39;49m, \u001b[39m'\u001b[39;49m\u001b[39mTerjual_num1\u001b[39;49m\u001b[39m'\u001b[39;49m] \u001b[39m=\u001b[39m \u001b[39m'\u001b[39m\u001b[39m1\u001b[39m\u001b[39m'\u001b[39m\n\u001b[0;32m      2\u001b[0m df_wuz_200per125_SC\u001b[39m.\u001b[39mloc[df_wuz_200per125_SC[\u001b[39m'\u001b[39m\u001b[39mTerjual\u001b[39m\u001b[39m'\u001b[39m] \u001b[39m==\u001b[39m \u001b[39m'\u001b[39m\u001b[39mTerjual 2\u001b[39m\u001b[39m'\u001b[39m, \u001b[39m'\u001b[39m\u001b[39mTerjual_num1\u001b[39m\u001b[39m'\u001b[39m] \u001b[39m=\u001b[39m \u001b[39m'\u001b[39m\u001b[39m2\u001b[39m\u001b[39m'\u001b[39m\n\u001b[0;32m      3\u001b[0m df_wuz_200per125_SC\u001b[39m.\u001b[39mloc[df_wuz_200per125_SC[\u001b[39m'\u001b[39m\u001b[39mTerjual\u001b[39m\u001b[39m'\u001b[39m] \u001b[39m==\u001b[39m \u001b[39m'\u001b[39m\u001b[39mTerjual 3\u001b[39m\u001b[39m'\u001b[39m, \u001b[39m'\u001b[39m\u001b[39mTerjual_num1\u001b[39m\u001b[39m'\u001b[39m] \u001b[39m=\u001b[39m \u001b[39m'\u001b[39m\u001b[39m3\u001b[39m\u001b[39m'\u001b[39m\n",
      "File \u001b[1;32md:\\PROGRAM\\Programs\\Python\\Python39\\lib\\site-packages\\pandas\\core\\indexing.py:818\u001b[0m, in \u001b[0;36m_LocationIndexer.__setitem__\u001b[1;34m(self, key, value)\u001b[0m\n\u001b[0;32m    815\u001b[0m \u001b[39mself\u001b[39m\u001b[39m.\u001b[39m_has_valid_setitem_indexer(key)\n\u001b[0;32m    817\u001b[0m iloc \u001b[39m=\u001b[39m \u001b[39mself\u001b[39m \u001b[39mif\u001b[39;00m \u001b[39mself\u001b[39m\u001b[39m.\u001b[39mname \u001b[39m==\u001b[39m \u001b[39m\"\u001b[39m\u001b[39miloc\u001b[39m\u001b[39m\"\u001b[39m \u001b[39melse\u001b[39;00m \u001b[39mself\u001b[39m\u001b[39m.\u001b[39mobj\u001b[39m.\u001b[39miloc\n\u001b[1;32m--> 818\u001b[0m iloc\u001b[39m.\u001b[39;49m_setitem_with_indexer(indexer, value, \u001b[39mself\u001b[39;49m\u001b[39m.\u001b[39;49mname)\n",
      "File \u001b[1;32md:\\PROGRAM\\Programs\\Python\\Python39\\lib\\site-packages\\pandas\\core\\indexing.py:1718\u001b[0m, in \u001b[0;36m_iLocIndexer._setitem_with_indexer\u001b[1;34m(self, indexer, value, name)\u001b[0m\n\u001b[0;32m   1716\u001b[0m \u001b[39mif\u001b[39;00m \u001b[39mnot\u001b[39;00m \u001b[39mlen\u001b[39m(\u001b[39mself\u001b[39m\u001b[39m.\u001b[39mobj):\n\u001b[0;32m   1717\u001b[0m     \u001b[39mif\u001b[39;00m \u001b[39mnot\u001b[39;00m is_list_like_indexer(value):\n\u001b[1;32m-> 1718\u001b[0m         \u001b[39mraise\u001b[39;00m \u001b[39mValueError\u001b[39;00m(\n\u001b[0;32m   1719\u001b[0m             \u001b[39m\"\u001b[39m\u001b[39mcannot set a frame with no \u001b[39m\u001b[39m\"\u001b[39m\n\u001b[0;32m   1720\u001b[0m             \u001b[39m\"\u001b[39m\u001b[39mdefined index and a scalar\u001b[39m\u001b[39m\"\u001b[39m\n\u001b[0;32m   1721\u001b[0m         )\n\u001b[0;32m   1722\u001b[0m     \u001b[39mself\u001b[39m\u001b[39m.\u001b[39mobj[key] \u001b[39m=\u001b[39m value\n\u001b[0;32m   1723\u001b[0m     \u001b[39mreturn\u001b[39;00m\n",
      "\u001b[1;31mValueError\u001b[0m: cannot set a frame with no defined index and a scalar"
     ]
    }
   ],
   "source": [
    "df_wuz_200per125_SC.loc[df_wuz_200per125_SC['Terjual'] == 'Terjual 1', 'Terjual_num1'] = '1'\n",
    "df_wuz_200per125_SC.loc[df_wuz_200per125_SC['Terjual'] == 'Terjual 2', 'Terjual_num1'] = '2'\n",
    "df_wuz_200per125_SC.loc[df_wuz_200per125_SC['Terjual'] == 'Terjual 3', 'Terjual_num1'] = '3'\n",
    "df_wuz_200per125_SC.loc[df_wuz_200per125_SC['Terjual'] == 'Terjual 4', 'Terjual_num1'] = '4'\n",
    "df_wuz_200per125_SC.loc[df_wuz_200per125_SC['Terjual'] == 'Terjual 5', 'Terjual_num1'] = '5'\n",
    "df_wuz_200per125_SC.loc[df_wuz_200per125_SC['Terjual'] == 'Terjual 6', 'Terjual_num1'] = '6'\n",
    "df_wuz_200per125_SC.loc[df_wuz_200per125_SC['Terjual'] == 'Terjual 7', 'Terjual_num1'] = '7'\n",
    "df_wuz_200per125_SC.loc[df_wuz_200per125_SC['Terjual'] == 'Terjual 8', 'Terjual_num1'] = '8'\n",
    "df_wuz_200per125_SC.loc[df_wuz_200per125_SC['Terjual'] == 'Terjual 9', 'Terjual_num1'] = '9'\n",
    "df_wuz_200per125_SC.loc[df_wuz_200per125_SC['Terjual'] == 'Terjual 10', 'Terjual_num1'] = '10'\n",
    "df_wuz_200per125_SC.loc[df_wuz_200per125_SC['Terjual'] == 'Terjual 11', 'Terjual_num1'] = '11'\n",
    "df_wuz_200per125_SC.loc[df_wuz_200per125_SC['Terjual'] == 'Terjual 12', 'Terjual_num1'] = '12'\n",
    "df_wuz_200per125_SC.loc[df_wuz_200per125_SC['Terjual'] == 'Terjual 13', 'Terjual_num1'] = '13'\n",
    "df_wuz_200per125_SC.loc[df_wuz_200per125_SC['Terjual'] == 'Terjual 15', 'Terjual_num1'] = '15'\n",
    "df_wuz_200per125_SC.loc[df_wuz_200per125_SC['Terjual'] == 'Terjual 16', 'Terjual_num1'] = '16'\n",
    "df_wuz_200per125_SC.loc[df_wuz_200per125_SC['Terjual'] == 'Terjual 18', 'Terjual_num1'] = '18'\n",
    "df_wuz_200per125_SC.loc[df_wuz_200per125_SC['Terjual'] == 'Terjual 19', 'Terjual_num1'] = '19'\n",
    "df_wuz_200per125_SC.loc[df_wuz_200per125_SC['Terjual'] == 'Terjual 20', 'Terjual_num1'] = '20'\n",
    "df_wuz_200per125_SC.loc[df_wuz_200per125_SC['Terjual'] == 'Terjual 21', 'Terjual_num1'] = '21'\n",
    "df_wuz_200per125_SC.loc[df_wuz_200per125_SC['Terjual'] == 'Terjual 22', 'Terjual_num1'] = '22'\n",
    "df_wuz_200per125_SC.loc[df_wuz_200per125_SC['Terjual'] == 'Terjual 24', 'Terjual_num1'] = '24'\n",
    "df_wuz_200per125_SC.loc[df_wuz_200per125_SC['Terjual'] == 'Terjual 25', 'Terjual_num1'] = '25'\n",
    "df_wuz_200per125_SC.loc[df_wuz_200per125_SC['Terjual'] == 'Terjual 28', 'Terjual_num1'] = '28'\n",
    "df_wuz_200per125_SC.loc[df_wuz_200per125_SC['Terjual'] == 'Terjual 30+', 'Terjual_num1'] = '30'\n",
    "df_wuz_200per125_SC.loc[df_wuz_200per125_SC['Terjual'] == 'Terjual 50+', 'Terjual_num1'] = '50'\n",
    "df_wuz_200per125_SC.loc[df_wuz_200per125_SC['Terjual'] == 'Terjual 60+', 'Terjual_num1'] = '60'\n",
    "df_wuz_200per125_SC.loc[df_wuz_200per125_SC['Terjual'] == 'Terjual 80+', 'Terjual_num1'] = '80'\n",
    "df_wuz_200per125_SC.loc[df_wuz_200per125_SC['Terjual'] == 'Terjual 250+', 'Terjual_num1'] = '250'\n",
    "df_wuz_200per125_SC.loc[df_wuz_200per125_SC['Terjual'] == 'Terjual 500+', 'Terjual_num1'] = '500'\n",
    "df_wuz_200per125_SC.loc[df_wuz_200per125_SC['Terjual'] == 'Terjual 750+', 'Terjual_num1'] = '750'\n",
    "df_wuz_200per125_SC.loc[df_wuz_200per125_SC['Terjual'] == 'Terjual 1 rb+', 'Terjual_num1'] = '1000'\n",
    "df_wuz_200per125_SC.loc[df_wuz_200per125_SC['Terjual'] == 'Terjual 3 rb+', 'Terjual_num1'] = '3000'\n",
    "df_wuz_200per125_SC.loc[df_wuz_200per125_SC['Terjual'] == 'Terjual 4 rb+', 'Terjual_num1'] = '4000'"
   ]
  },
  {
   "cell_type": "code",
   "execution_count": 22,
   "metadata": {},
   "outputs": [
    {
     "ename": "KeyError",
     "evalue": "'Terjual_num1'",
     "output_type": "error",
     "traceback": [
      "\u001b[1;31m---------------------------------------------------------------------------\u001b[0m",
      "\u001b[1;31mKeyError\u001b[0m                                  Traceback (most recent call last)",
      "File \u001b[1;32md:\\PROGRAM\\Programs\\Python\\Python39\\lib\\site-packages\\pandas\\core\\indexes\\base.py:3802\u001b[0m, in \u001b[0;36mIndex.get_loc\u001b[1;34m(self, key, method, tolerance)\u001b[0m\n\u001b[0;32m   3801\u001b[0m \u001b[39mtry\u001b[39;00m:\n\u001b[1;32m-> 3802\u001b[0m     \u001b[39mreturn\u001b[39;00m \u001b[39mself\u001b[39;49m\u001b[39m.\u001b[39;49m_engine\u001b[39m.\u001b[39;49mget_loc(casted_key)\n\u001b[0;32m   3803\u001b[0m \u001b[39mexcept\u001b[39;00m \u001b[39mKeyError\u001b[39;00m \u001b[39mas\u001b[39;00m err:\n",
      "File \u001b[1;32md:\\PROGRAM\\Programs\\Python\\Python39\\lib\\site-packages\\pandas\\_libs\\index.pyx:138\u001b[0m, in \u001b[0;36mpandas._libs.index.IndexEngine.get_loc\u001b[1;34m()\u001b[0m\n",
      "File \u001b[1;32md:\\PROGRAM\\Programs\\Python\\Python39\\lib\\site-packages\\pandas\\_libs\\index.pyx:165\u001b[0m, in \u001b[0;36mpandas._libs.index.IndexEngine.get_loc\u001b[1;34m()\u001b[0m\n",
      "File \u001b[1;32mpandas\\_libs\\hashtable_class_helper.pxi:5745\u001b[0m, in \u001b[0;36mpandas._libs.hashtable.PyObjectHashTable.get_item\u001b[1;34m()\u001b[0m\n",
      "File \u001b[1;32mpandas\\_libs\\hashtable_class_helper.pxi:5753\u001b[0m, in \u001b[0;36mpandas._libs.hashtable.PyObjectHashTable.get_item\u001b[1;34m()\u001b[0m\n",
      "\u001b[1;31mKeyError\u001b[0m: 'Terjual_num1'",
      "\nThe above exception was the direct cause of the following exception:\n",
      "\u001b[1;31mKeyError\u001b[0m                                  Traceback (most recent call last)",
      "Cell \u001b[1;32mIn[22], line 1\u001b[0m\n\u001b[1;32m----> 1\u001b[0m df_Wuz[\u001b[39m'\u001b[39m\u001b[39mTerjual_num1\u001b[39m\u001b[39m'\u001b[39m] \u001b[39m=\u001b[39m df_Wuz[\u001b[39m'\u001b[39;49m\u001b[39mTerjual_num1\u001b[39;49m\u001b[39m'\u001b[39;49m]\u001b[39m.\u001b[39mastype(\u001b[39mfloat\u001b[39m)\n",
      "File \u001b[1;32md:\\PROGRAM\\Programs\\Python\\Python39\\lib\\site-packages\\pandas\\core\\frame.py:3807\u001b[0m, in \u001b[0;36mDataFrame.__getitem__\u001b[1;34m(self, key)\u001b[0m\n\u001b[0;32m   3805\u001b[0m \u001b[39mif\u001b[39;00m \u001b[39mself\u001b[39m\u001b[39m.\u001b[39mcolumns\u001b[39m.\u001b[39mnlevels \u001b[39m>\u001b[39m \u001b[39m1\u001b[39m:\n\u001b[0;32m   3806\u001b[0m     \u001b[39mreturn\u001b[39;00m \u001b[39mself\u001b[39m\u001b[39m.\u001b[39m_getitem_multilevel(key)\n\u001b[1;32m-> 3807\u001b[0m indexer \u001b[39m=\u001b[39m \u001b[39mself\u001b[39;49m\u001b[39m.\u001b[39;49mcolumns\u001b[39m.\u001b[39;49mget_loc(key)\n\u001b[0;32m   3808\u001b[0m \u001b[39mif\u001b[39;00m is_integer(indexer):\n\u001b[0;32m   3809\u001b[0m     indexer \u001b[39m=\u001b[39m [indexer]\n",
      "File \u001b[1;32md:\\PROGRAM\\Programs\\Python\\Python39\\lib\\site-packages\\pandas\\core\\indexes\\base.py:3804\u001b[0m, in \u001b[0;36mIndex.get_loc\u001b[1;34m(self, key, method, tolerance)\u001b[0m\n\u001b[0;32m   3802\u001b[0m     \u001b[39mreturn\u001b[39;00m \u001b[39mself\u001b[39m\u001b[39m.\u001b[39m_engine\u001b[39m.\u001b[39mget_loc(casted_key)\n\u001b[0;32m   3803\u001b[0m \u001b[39mexcept\u001b[39;00m \u001b[39mKeyError\u001b[39;00m \u001b[39mas\u001b[39;00m err:\n\u001b[1;32m-> 3804\u001b[0m     \u001b[39mraise\u001b[39;00m \u001b[39mKeyError\u001b[39;00m(key) \u001b[39mfrom\u001b[39;00m \u001b[39merr\u001b[39;00m\n\u001b[0;32m   3805\u001b[0m \u001b[39mexcept\u001b[39;00m \u001b[39mTypeError\u001b[39;00m:\n\u001b[0;32m   3806\u001b[0m     \u001b[39m# If we have a listlike key, _check_indexing_error will raise\u001b[39;00m\n\u001b[0;32m   3807\u001b[0m     \u001b[39m#  InvalidIndexError. Otherwise we fall through and re-raise\u001b[39;00m\n\u001b[0;32m   3808\u001b[0m     \u001b[39m#  the TypeError.\u001b[39;00m\n\u001b[0;32m   3809\u001b[0m     \u001b[39mself\u001b[39m\u001b[39m.\u001b[39m_check_indexing_error(key)\n",
      "\u001b[1;31mKeyError\u001b[0m: 'Terjual_num1'"
     ]
    }
   ],
   "source": [
    "df_Wuz['Terjual_num1'] = df_Wuz['Terjual_num1'].astype(float)"
   ]
  },
  {
   "cell_type": "code",
   "execution_count": 23,
   "metadata": {},
   "outputs": [],
   "source": [
    "df_Wuz['Rating'] = df_Wuz['Rating'].replace('', np.nan, regex=True)\n",
    "df_Wuz['Rating'] = df_Wuz['Rating'].astype(float)"
   ]
  },
  {
   "cell_type": "code",
   "execution_count": 24,
   "metadata": {},
   "outputs": [
    {
     "name": "stderr",
     "output_type": "stream",
     "text": [
      "C:\\Users\\i_fes\\AppData\\Local\\Temp\\ipykernel_11924\\4112976771.py:1: FutureWarning: The default value of regex will change from True to False in a future version.\n",
      "  df_Wuz['Harga'] = df_Wuz['Harga'].str.replace(r'\\D', '')\n"
     ]
    }
   ],
   "source": [
    "df_Wuz['Harga'] = df_Wuz['Harga'].str.replace(r'\\D', '')"
   ]
  },
  {
   "cell_type": "code",
   "execution_count": 25,
   "metadata": {},
   "outputs": [],
   "source": [
    "df_Wuz['Harga'] = df_Wuz['Harga'].astype(float)"
   ]
  },
  {
   "cell_type": "code",
   "execution_count": 26,
   "metadata": {},
   "outputs": [
    {
     "data": {
      "text/plain": [
       "Nama Produk     object\n",
       "Harga          float64\n",
       "Rating         float64\n",
       "Toko            object\n",
       "Lokasi          object\n",
       "Terjual         object\n",
       "dtype: object"
      ]
     },
     "execution_count": 26,
     "metadata": {},
     "output_type": "execute_result"
    }
   ],
   "source": [
    "df_Wuz.dtypes"
   ]
  },
  {
   "cell_type": "code",
   "execution_count": 27,
   "metadata": {},
   "outputs": [
    {
     "ename": "IndexError",
     "evalue": "index 0 is out of bounds for axis 0 with size 0",
     "output_type": "error",
     "traceback": [
      "\u001b[1;31m---------------------------------------------------------------------------\u001b[0m",
      "\u001b[1;31mIndexError\u001b[0m                                Traceback (most recent call last)",
      "Cell \u001b[1;32mIn[27], line 1\u001b[0m\n\u001b[1;32m----> 1\u001b[0m ax \u001b[39m=\u001b[39m df_Wuz[\u001b[39m'\u001b[39;49m\u001b[39mLokasi\u001b[39;49m\u001b[39m'\u001b[39;49m]\u001b[39m.\u001b[39;49mvalue_counts() \\\n\u001b[0;32m      2\u001b[0m     \u001b[39m.\u001b[39;49mplot(kind\u001b[39m=\u001b[39;49m \u001b[39m'\u001b[39;49m\u001b[39mbarh\u001b[39;49m\u001b[39m'\u001b[39;49m, figsize \u001b[39m=\u001b[39;49m (\u001b[39m12\u001b[39;49m,\u001b[39m6\u001b[39;49m), title\u001b[39m=\u001b[39;49m\u001b[39m'\u001b[39;49m\u001b[39mRata-Rata Toko Online Berdasarkan Lokasi (Aneka Wuz)\u001b[39;49m\u001b[39m'\u001b[39;49m)\n\u001b[0;32m      4\u001b[0m plt\u001b[39m.\u001b[39mticklabel_format(style\u001b[39m=\u001b[39m\u001b[39m'\u001b[39m\u001b[39mplain\u001b[39m\u001b[39m'\u001b[39m, axis\u001b[39m=\u001b[39m\u001b[39m'\u001b[39m\u001b[39mx\u001b[39m\u001b[39m'\u001b[39m)\n\u001b[0;32m      6\u001b[0m ax\u001b[39m.\u001b[39mbar_label(ax\u001b[39m.\u001b[39mcontainers[\u001b[39m0\u001b[39m], label_type \u001b[39m=\u001b[39m \u001b[39m'\u001b[39m\u001b[39medge\u001b[39m\u001b[39m'\u001b[39m, fmt \u001b[39m=\u001b[39m \u001b[39m'\u001b[39m\u001b[39m%d\u001b[39;00m\u001b[39m'\u001b[39m, fontsize \u001b[39m=\u001b[39m \u001b[39m12\u001b[39m)\n",
      "File \u001b[1;32md:\\PROGRAM\\Programs\\Python\\Python39\\lib\\site-packages\\pandas\\plotting\\_core.py:1000\u001b[0m, in \u001b[0;36mPlotAccessor.__call__\u001b[1;34m(self, *args, **kwargs)\u001b[0m\n\u001b[0;32m    997\u001b[0m             label_name \u001b[39m=\u001b[39m label_kw \u001b[39mor\u001b[39;00m data\u001b[39m.\u001b[39mcolumns\n\u001b[0;32m    998\u001b[0m             data\u001b[39m.\u001b[39mcolumns \u001b[39m=\u001b[39m label_name\n\u001b[1;32m-> 1000\u001b[0m \u001b[39mreturn\u001b[39;00m plot_backend\u001b[39m.\u001b[39mplot(data, kind\u001b[39m=\u001b[39mkind, \u001b[39m*\u001b[39m\u001b[39m*\u001b[39mkwargs)\n",
      "File \u001b[1;32md:\\PROGRAM\\Programs\\Python\\Python39\\lib\\site-packages\\pandas\\plotting\\_matplotlib\\__init__.py:71\u001b[0m, in \u001b[0;36mplot\u001b[1;34m(data, kind, **kwargs)\u001b[0m\n\u001b[0;32m     69\u001b[0m         kwargs[\u001b[39m\"\u001b[39m\u001b[39max\u001b[39m\u001b[39m\"\u001b[39m] \u001b[39m=\u001b[39m \u001b[39mgetattr\u001b[39m(ax, \u001b[39m\"\u001b[39m\u001b[39mleft_ax\u001b[39m\u001b[39m\"\u001b[39m, ax)\n\u001b[0;32m     70\u001b[0m plot_obj \u001b[39m=\u001b[39m PLOT_CLASSES[kind](data, \u001b[39m*\u001b[39m\u001b[39m*\u001b[39mkwargs)\n\u001b[1;32m---> 71\u001b[0m plot_obj\u001b[39m.\u001b[39;49mgenerate()\n\u001b[0;32m     72\u001b[0m plot_obj\u001b[39m.\u001b[39mdraw()\n\u001b[0;32m     73\u001b[0m \u001b[39mreturn\u001b[39;00m plot_obj\u001b[39m.\u001b[39mresult\n",
      "File \u001b[1;32md:\\PROGRAM\\Programs\\Python\\Python39\\lib\\site-packages\\pandas\\plotting\\_matplotlib\\core.py:459\u001b[0m, in \u001b[0;36mMPLPlot.generate\u001b[1;34m(self)\u001b[0m\n\u001b[0;32m    457\u001b[0m \u001b[39mfor\u001b[39;00m ax \u001b[39min\u001b[39;00m \u001b[39mself\u001b[39m\u001b[39m.\u001b[39maxes:\n\u001b[0;32m    458\u001b[0m     \u001b[39mself\u001b[39m\u001b[39m.\u001b[39m_post_plot_logic_common(ax, \u001b[39mself\u001b[39m\u001b[39m.\u001b[39mdata)\n\u001b[1;32m--> 459\u001b[0m     \u001b[39mself\u001b[39;49m\u001b[39m.\u001b[39;49m_post_plot_logic(ax, \u001b[39mself\u001b[39;49m\u001b[39m.\u001b[39;49mdata)\n",
      "File \u001b[1;32md:\\PROGRAM\\Programs\\Python\\Python39\\lib\\site-packages\\pandas\\plotting\\_matplotlib\\core.py:1739\u001b[0m, in \u001b[0;36mBarPlot._post_plot_logic\u001b[1;34m(self, ax, data)\u001b[0m\n\u001b[0;32m   1736\u001b[0m \u001b[39melse\u001b[39;00m:\n\u001b[0;32m   1737\u001b[0m     str_index \u001b[39m=\u001b[39m [pprint_thing(key) \u001b[39mfor\u001b[39;00m key \u001b[39min\u001b[39;00m \u001b[39mrange\u001b[39m(data\u001b[39m.\u001b[39mshape[\u001b[39m0\u001b[39m])]\n\u001b[1;32m-> 1739\u001b[0m s_edge \u001b[39m=\u001b[39m \u001b[39mself\u001b[39;49m\u001b[39m.\u001b[39;49max_pos[\u001b[39m0\u001b[39;49m] \u001b[39m-\u001b[39m \u001b[39m0.25\u001b[39m \u001b[39m+\u001b[39m \u001b[39mself\u001b[39m\u001b[39m.\u001b[39mlim_offset\n\u001b[0;32m   1740\u001b[0m e_edge \u001b[39m=\u001b[39m \u001b[39mself\u001b[39m\u001b[39m.\u001b[39max_pos[\u001b[39m-\u001b[39m\u001b[39m1\u001b[39m] \u001b[39m+\u001b[39m \u001b[39m0.25\u001b[39m \u001b[39m+\u001b[39m \u001b[39mself\u001b[39m\u001b[39m.\u001b[39mbar_width \u001b[39m+\u001b[39m \u001b[39mself\u001b[39m\u001b[39m.\u001b[39mlim_offset\n\u001b[0;32m   1742\u001b[0m \u001b[39mself\u001b[39m\u001b[39m.\u001b[39m_decorate_ticks(ax, \u001b[39mself\u001b[39m\u001b[39m.\u001b[39m_get_index_name(), str_index, s_edge, e_edge)\n",
      "\u001b[1;31mIndexError\u001b[0m: index 0 is out of bounds for axis 0 with size 0"
     ]
    },
    {
     "data": {
      "image/png": "[encoded data removed]",
      "text/plain": [
       "<Figure size 1200x600 with 1 Axes>"
      ]
     },
     "metadata": {},
     "output_type": "display_data"
    }
   ],
   "source": [
    "ax = df_Wuz['Lokasi'].value_counts() \\\n",
    "    .plot(kind= 'barh', figsize = (12,6), title='Rata-Rata Toko Online Berdasarkan Lokasi (Aneka Wuz)')\n",
    "\n",
    "plt.ticklabel_format(style='plain', axis='x')\n",
    "\n",
    "ax.bar_label(ax.containers[0], label_type = 'edge', fmt = '%d', fontsize = 12)\n",
    "\n",
    "plt.show()"
   ]
  },
  {
   "cell_type": "code",
   "execution_count": 28,
   "metadata": {},
   "outputs": [
    {
     "ename": "KeyError",
     "evalue": "'Column not found: Terjual_num1'",
     "output_type": "error",
     "traceback": [
      "\u001b[1;31m---------------------------------------------------------------------------\u001b[0m",
      "\u001b[1;31mKeyError\u001b[0m                                  Traceback (most recent call last)",
      "Cell \u001b[1;32mIn[28], line 1\u001b[0m\n\u001b[1;32m----> 1\u001b[0m ax \u001b[39m=\u001b[39m df_Wuz\u001b[39m.\u001b[39;49mgroupby(\u001b[39m'\u001b[39;49m\u001b[39mLokasi\u001b[39;49m\u001b[39m'\u001b[39;49m)[\u001b[39m'\u001b[39;49m\u001b[39mTerjual_num1\u001b[39;49m\u001b[39m'\u001b[39;49m]\u001b[39m.\u001b[39mmean()\u001b[39m.\u001b[39msort_values(ascending\u001b[39m=\u001b[39m\u001b[39mFalse\u001b[39;00m) \\\n\u001b[0;32m      2\u001b[0m     \u001b[39m.\u001b[39mplot(kind\u001b[39m=\u001b[39m \u001b[39m'\u001b[39m\u001b[39mbarh\u001b[39m\u001b[39m'\u001b[39m, figsize \u001b[39m=\u001b[39m (\u001b[39m12\u001b[39m,\u001b[39m6\u001b[39m), title\u001b[39m=\u001b[39m\u001b[39m'\u001b[39m\u001b[39mRata-Rata Penjualan Berdasarkan Lokasi (Aneka Wuz)\u001b[39m\u001b[39m'\u001b[39m)\n\u001b[0;32m      3\u001b[0m ax\u001b[39m.\u001b[39mbar_label(ax\u001b[39m.\u001b[39mcontainers[\u001b[39m0\u001b[39m], label_type \u001b[39m=\u001b[39m \u001b[39m'\u001b[39m\u001b[39mcenter\u001b[39m\u001b[39m'\u001b[39m, fmt \u001b[39m=\u001b[39m \u001b[39m'\u001b[39m\u001b[39m%d\u001b[39;00m\u001b[39m'\u001b[39m, fontsize\u001b[39m=\u001b[39m\u001b[39m12\u001b[39m)\n\u001b[0;32m      4\u001b[0m plt\u001b[39m.\u001b[39mshow()\n",
      "File \u001b[1;32md:\\PROGRAM\\Programs\\Python\\Python39\\lib\\site-packages\\pandas\\core\\groupby\\generic.py:1416\u001b[0m, in \u001b[0;36mDataFrameGroupBy.__getitem__\u001b[1;34m(self, key)\u001b[0m\n\u001b[0;32m   1407\u001b[0m \u001b[39mif\u001b[39;00m \u001b[39misinstance\u001b[39m(key, \u001b[39mtuple\u001b[39m) \u001b[39mand\u001b[39;00m \u001b[39mlen\u001b[39m(key) \u001b[39m>\u001b[39m \u001b[39m1\u001b[39m:\n\u001b[0;32m   1408\u001b[0m     \u001b[39m# if len == 1, then it becomes a SeriesGroupBy and this is actually\u001b[39;00m\n\u001b[0;32m   1409\u001b[0m     \u001b[39m# valid syntax, so don't raise warning\u001b[39;00m\n\u001b[0;32m   1410\u001b[0m     warnings\u001b[39m.\u001b[39mwarn(\n\u001b[0;32m   1411\u001b[0m         \u001b[39m\"\u001b[39m\u001b[39mIndexing with multiple keys (implicitly converted to a tuple \u001b[39m\u001b[39m\"\u001b[39m\n\u001b[0;32m   1412\u001b[0m         \u001b[39m\"\u001b[39m\u001b[39mof keys) will be deprecated, use a list instead.\u001b[39m\u001b[39m\"\u001b[39m,\n\u001b[0;32m   1413\u001b[0m         \u001b[39mFutureWarning\u001b[39;00m,\n\u001b[0;32m   1414\u001b[0m         stacklevel\u001b[39m=\u001b[39mfind_stack_level(),\n\u001b[0;32m   1415\u001b[0m     )\n\u001b[1;32m-> 1416\u001b[0m \u001b[39mreturn\u001b[39;00m \u001b[39msuper\u001b[39;49m()\u001b[39m.\u001b[39;49m\u001b[39m__getitem__\u001b[39;49m(key)\n",
      "File \u001b[1;32md:\\PROGRAM\\Programs\\Python\\Python39\\lib\\site-packages\\pandas\\core\\base.py:248\u001b[0m, in \u001b[0;36mSelectionMixin.__getitem__\u001b[1;34m(self, key)\u001b[0m\n\u001b[0;32m    246\u001b[0m \u001b[39melse\u001b[39;00m:\n\u001b[0;32m    247\u001b[0m     \u001b[39mif\u001b[39;00m key \u001b[39mnot\u001b[39;00m \u001b[39min\u001b[39;00m \u001b[39mself\u001b[39m\u001b[39m.\u001b[39mobj:\n\u001b[1;32m--> 248\u001b[0m         \u001b[39mraise\u001b[39;00m \u001b[39mKeyError\u001b[39;00m(\u001b[39mf\u001b[39m\u001b[39m\"\u001b[39m\u001b[39mColumn not found: \u001b[39m\u001b[39m{\u001b[39;00mkey\u001b[39m}\u001b[39;00m\u001b[39m\"\u001b[39m)\n\u001b[0;32m    249\u001b[0m     subset \u001b[39m=\u001b[39m \u001b[39mself\u001b[39m\u001b[39m.\u001b[39mobj[key]\n\u001b[0;32m    250\u001b[0m     ndim \u001b[39m=\u001b[39m subset\u001b[39m.\u001b[39mndim\n",
      "\u001b[1;31mKeyError\u001b[0m: 'Column not found: Terjual_num1'"
     ]
    }
   ],
   "source": [
    "ax = df_Wuz.groupby('Lokasi')['Terjual_num1'].mean().sort_values(ascending=False) \\\n",
    "    .plot(kind= 'barh', figsize = (12,6), title='Rata-Rata Penjualan Berdasarkan Lokasi (Aneka Wuz)')\n",
    "ax.bar_label(ax.containers[0], label_type = 'center', fmt = '%d', fontsize=12)\n",
    "plt.show()"
   ]
  },
  {
   "cell_type": "code",
   "execution_count": null,
   "metadata": {},
   "outputs": [],
   "source": [
    "df_Wuz['Pendapatan'] = df_Wuz['Terjual_num1']*df_Wuz['Harga']\n",
    "my_colors = list('bbgbb')\n",
    "\n",
    "ax = df_Wuz.groupby('Lokasi')['Pendapatan'].mean().sort_values(ascending=False) \\\n",
    "    .plot(kind= 'barh', figsize = (16,8), title='Rata-Rata Pendapatan Berdasarkan Lokasi (Aneka Wuz)', color=my_colors)\n",
    "plt.ticklabel_format(style='plain', axis='x')\n",
    "\n",
    "ax.bar_label(ax.containers[0], label_type = 'edge', fmt = '%d', fontsize=12)\n",
    "for spine in ax.spines:\n",
    "    ax.spines[spine].set_visible(False)\n",
    "\n",
    "#rects = ax.patches\n",
    "\n",
    "#labels = [f\"label{i}\" for i in range(len(rects))]\n",
    "\n",
    "\n",
    "#for rect, label in zip(rects, labels):\n",
    "#    height = rect.get_height()\n",
    "#    ax.text(\n",
    "#        rect.get_x() + rect.get_width() / 2, height + 5, label, ha=\"center\", va=\"bottom\"\n",
    "#    )\n",
    "\n",
    "plt.show()"
   ]
  },
  {
   "cell_type": "code",
   "execution_count": null,
   "metadata": {},
   "outputs": [],
   "source": [
    "df_corr = df_Wuz.dropna().corr()\n",
    "sns.heatmap(df_corr, annot = True)"
   ]
  },
  {
   "cell_type": "code",
   "execution_count": null,
   "metadata": {},
   "outputs": [],
   "source": [
    "#df_Wuz.to_excel('Tokped_Daging_API.xlsx', index=False)"
   ]
  }
 ],
 "metadata": {
  "kernelspec": {
   "display_name": "Python 3",
   "language": "python",
   "name": "python3"
  },
  "language_info": {
   "codemirror_mode": {
    "name": "ipython",
    "version": 3
   },
   "file_extension": ".py",
   "mimetype": "text/x-python",
   "name": "python",
   "nbconvert_exporter": "python",
   "pygments_lexer": "ipython3",
   "version": "3.9.7"
  },
  "orig_nbformat": 4
 },
 "nbformat": 4,
 "nbformat_minor": 2
}
